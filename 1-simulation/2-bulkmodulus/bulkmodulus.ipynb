{
 "cells": [
  {
   "cell_type": "code",
   "execution_count": 1,
   "metadata": {},
   "outputs": [],
   "source": [
    "from pyiron import Project"
   ]
  },
  {
   "cell_type": "code",
   "execution_count": 2,
   "metadata": {},
   "outputs": [],
   "source": [
    "pr = Project('.')\n",
    "pr.remove_jobs(recursive=True)"
   ]
  },
  {
   "cell_type": "markdown",
   "metadata": {},
   "source": [
    "# Interactive development "
   ]
  },
  {
   "cell_type": "code",
   "execution_count": 3,
   "metadata": {},
   "outputs": [],
   "source": [
    "pr = Project('bulk_md')  # simulation project "
   ]
  },
  {
   "cell_type": "code",
   "execution_count": 4,
   "metadata": {},
   "outputs": [
    {
     "data": {
      "application/vnd.jupyter.widget-view+json": {
       "model_id": "99b0a664d046450e8f1a66fa1a820425",
       "version_major": 2,
       "version_minor": 0
      },
      "text/plain": [
       "_ColormakerRegistry()"
      ]
     },
     "metadata": {},
     "output_type": "display_data"
    },
    {
     "data": {
      "application/vnd.jupyter.widget-view+json": {
       "model_id": "b0e980db55cc4df0af009195fb4a28f2",
       "version_major": 2,
       "version_minor": 0
      },
      "text/plain": [
       "NGLWidget()"
      ]
     },
     "metadata": {},
     "output_type": "display_data"
    }
   ],
   "source": [
    "# atomistic structure \n",
    "structure = pr.create_ase_bulk('Al')\n",
    "structure.plot3d()"
   ]
  },
  {
   "cell_type": "code",
   "execution_count": 5,
   "metadata": {},
   "outputs": [],
   "source": [
    "job = pr.create_job(pr.job_type.Lammps, 'job_md')  # calculation type "
   ]
  },
  {
   "cell_type": "code",
   "execution_count": 6,
   "metadata": {},
   "outputs": [],
   "source": [
    "job.structure = structure  # set structure for calculation "
   ]
  },
  {
   "cell_type": "code",
   "execution_count": 7,
   "metadata": {},
   "outputs": [],
   "source": [
    "job.list_potentials()\n",
    "job.potential = 'Al_Mg_Mendelev_eam'  # define the interaction potential "
   ]
  },
  {
   "cell_type": "code",
   "execution_count": 8,
   "metadata": {},
   "outputs": [
    {
     "name": "stderr",
     "output_type": "stream",
     "text": [
      "/srv/conda/envs/notebook/lib/python3.7/importlib/_bootstrap.py:219: RuntimeWarning: numpy.ufunc size changed, may indicate binary incompatibility. Expected 192 from C header, got 216 from PyObject\n",
      "  return f(*args, **kwds)\n"
     ]
    },
    {
     "name": "stdout",
     "output_type": "stream",
     "text": [
      "The job job_md_ev was saved and received the ID: 1\n",
      "The job strain_0_9 was saved and received the ID: 2\n",
      "The job strain_0_92 was saved and received the ID: 3\n",
      "The job strain_0_94 was saved and received the ID: 4\n",
      "The job strain_0_96 was saved and received the ID: 5\n",
      "The job strain_0_98 was saved and received the ID: 6\n",
      "The job strain_1_0 was saved and received the ID: 7\n",
      "The job strain_1_02 was saved and received the ID: 8\n",
      "The job strain_1_04 was saved and received the ID: 9\n",
      "The job strain_1_06 was saved and received the ID: 10\n",
      "The job strain_1_08 was saved and received the ID: 11\n",
      "The job strain_1_1 was saved and received the ID: 12\n",
      "job_id:  2 finished\n",
      "job_id:  3 finished\n",
      "job_id:  4 finished\n",
      "job_id:  5 finished\n",
      "job_id:  6 finished\n",
      "job_id:  7 finished\n",
      "job_id:  8 finished\n",
      "job_id:  9 finished\n",
      "job_id:  10 finished\n",
      "job_id:  11 finished\n",
      "job_id:  12 finished\n"
     ]
    },
    {
     "data": {
      "image/png": "[encoded data removed]",
      "text/plain": [
       "<Figure size 432x288 with 1 Axes>"
      ]
     },
     "metadata": {
      "needs_background": "light"
     },
     "output_type": "display_data"
    }
   ],
   "source": [
    "# calculate energy at different volumes\n",
    "ev_curve_job = job.create_job(\n",
    "    job_type=pr.job_type.Murnaghan, \n",
    "    job_name=job.job_name + '_ev'\n",
    ") \n",
    "ev_curve_job.run()  # execute calculation \n",
    "ev_curve_job.plot()  # plot result "
   ]
  },
  {
   "cell_type": "code",
   "execution_count": 9,
   "metadata": {},
   "outputs": [
    {
     "data": {
      "text/plain": [
       "89.01548731441547"
      ]
     },
     "execution_count": 9,
     "metadata": {},
     "output_type": "execute_result"
    }
   ],
   "source": [
    "ev_curve_job['output/equilibrium_bulk_modulus']  # calculated bulk modulus in GPa "
   ]
  },
  {
   "cell_type": "markdown",
   "metadata": {},
   "source": [
    "# Define a function "
   ]
  },
  {
   "cell_type": "code",
   "execution_count": 10,
   "metadata": {},
   "outputs": [],
   "source": [
    "def calc_bulk_modulus(job):\n",
    "    ev_curve_job = job.create_job(pr.job_type.Murnaghan, job.job_name + '_ev')\n",
    "    ev_curve_job.run()\n",
    "    return ev_curve_job['output/equilibrium_bulk_modulus']"
   ]
  },
  {
   "cell_type": "markdown",
   "metadata": {},
   "source": [
    "## Apply the function to the same interatomic potential \n",
    "The results are reloaded from the database. "
   ]
  },
  {
   "cell_type": "code",
   "execution_count": 11,
   "metadata": {},
   "outputs": [
    {
     "name": "stderr",
     "output_type": "stream",
     "text": [
      "2020-05-18 16:44:32,728 - pyiron_log - WARNING - The job job_md_ev is being loaded instead of running. To re-run use the argument 'run_again=True'\n"
     ]
    },
    {
     "data": {
      "text/plain": [
       "89.01548731441547"
      ]
     },
     "execution_count": 11,
     "metadata": {},
     "output_type": "execute_result"
    }
   ],
   "source": [
    "pr = Project('bulk_md')\n",
    "job = pr.create_job(pr.job_type.Lammps, 'job_md')\n",
    "job.structure = structure\n",
    "job.potential = 'Al_Mg_Mendelev_eam'\n",
    "calc_bulk_modulus(job)"
   ]
  },
  {
   "cell_type": "markdown",
   "metadata": {},
   "source": [
    "## Repeat the same calculation on the DFT scale \n",
    "In contrast to the interatomic scale the DFT scale considers the electron density, while the interatomic scale just considers the atoms. "
   ]
  },
  {
   "cell_type": "code",
   "execution_count": 12,
   "metadata": {},
   "outputs": [
    {
     "name": "stdout",
     "output_type": "stream",
     "text": [
      "The job job_dft_ev was saved and received the ID: 13\n",
      "The job strain_0_9 was saved and received the ID: 14\n",
      "The job strain_0_92 was saved and received the ID: 15\n",
      "The job strain_0_94 was saved and received the ID: 16\n",
      "The job strain_0_96 was saved and received the ID: 17\n",
      "The job strain_0_98 was saved and received the ID: 18\n",
      "The job strain_1_0 was saved and received the ID: 19\n",
      "The job strain_1_02 was saved and received the ID: 20\n",
      "The job strain_1_04 was saved and received the ID: 21\n",
      "The job strain_1_06 was saved and received the ID: 22\n",
      "The job strain_1_08 was saved and received the ID: 23\n",
      "The job strain_1_1 was saved and received the ID: 24\n",
      "job_id:  14 finished\n",
      "job_id:  15 finished\n",
      "job_id:  16 finished\n",
      "job_id:  17 finished\n",
      "job_id:  18 finished\n",
      "job_id:  19 finished\n",
      "job_id:  20 finished\n",
      "job_id:  21 finished\n",
      "job_id:  22 finished\n",
      "job_id:  23 finished\n",
      "job_id:  24 finished\n"
     ]
    },
    {
     "data": {
      "text/plain": [
       "82.24204301173144"
      ]
     },
     "execution_count": 12,
     "metadata": {},
     "output_type": "execute_result"
    }
   ],
   "source": [
    "pr = Project('bulk_dft')\n",
    "job = pr.create_job(pr.job_type.Sphinx, 'job_dft')\n",
    "job.structure = structure\n",
    "# job.potential = 'Al_Mg_Mendelev_eam'  # no interatomic potential required \n",
    "calc_bulk_modulus(job)"
   ]
  },
  {
   "cell_type": "code",
   "execution_count": null,
   "metadata": {},
   "outputs": [],
   "source": []
  }
 ],
 "metadata": {
  "kernelspec": {
   "display_name": "Python 3",
   "language": "python",
   "name": "python3"
  },
  "language_info": {
   "codemirror_mode": {
    "name": "ipython",
    "version": 3
   },
   "file_extension": ".py",
   "mimetype": "text/x-python",
   "name": "python",
   "nbconvert_exporter": "python",
   "pygments_lexer": "ipython3",
   "version": "3.7.6"
  }
 },
 "nbformat": 4,
 "nbformat_minor": 4
}
